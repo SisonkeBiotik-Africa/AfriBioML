{
  "cells": [
    {
      "cell_type": "code",
      "execution_count": 25,
      "metadata": {
        "colab": {
          "base_uri": "https://localhost:8080/"
        },
        "id": "YgyzvHEUo8ha",
        "outputId": "c166c51f-3e62-4870-c6ab-ebb3310d34d1"
      },
      "outputs": [
        {
          "output_type": "stream",
          "name": "stdout",
          "text": [
            "Looking in indexes: https://pypi.org/simple, https://us-python.pkg.dev/colab-wheels/public/simple/\n",
            "Requirement already satisfied: wikibaseintegrator in /usr/local/lib/python3.8/dist-packages (0.12.2)\n",
            "Requirement already satisfied: mwoauth~=0.3.8 in /usr/local/lib/python3.8/dist-packages (from wikibaseintegrator) (0.3.8)\n",
            "Requirement already satisfied: requests<2.29.0,>=2.27.1 in /usr/local/lib/python3.8/dist-packages (from wikibaseintegrator) (2.28.1)\n",
            "Requirement already satisfied: requests-oauthlib~=1.3.1 in /usr/local/lib/python3.8/dist-packages (from wikibaseintegrator) (1.3.1)\n",
            "Requirement already satisfied: oauthlib~=3.2.0 in /usr/local/lib/python3.8/dist-packages (from wikibaseintegrator) (3.2.2)\n",
            "Requirement already satisfied: ujson<5.6,>=5.4 in /usr/local/lib/python3.8/dist-packages (from wikibaseintegrator) (5.5.0)\n",
            "Requirement already satisfied: backoff<2.3.0,>=1.11.1 in /usr/local/lib/python3.8/dist-packages (from wikibaseintegrator) (2.2.1)\n",
            "Requirement already satisfied: six in /usr/local/lib/python3.8/dist-packages (from mwoauth~=0.3.8->wikibaseintegrator) (1.15.0)\n",
            "Requirement already satisfied: PyJWT>=1.0.1 in /usr/local/lib/python3.8/dist-packages (from mwoauth~=0.3.8->wikibaseintegrator) (2.6.0)\n",
            "Requirement already satisfied: urllib3<1.27,>=1.21.1 in /usr/local/lib/python3.8/dist-packages (from requests<2.29.0,>=2.27.1->wikibaseintegrator) (1.24.3)\n",
            "Requirement already satisfied: certifi>=2017.4.17 in /usr/local/lib/python3.8/dist-packages (from requests<2.29.0,>=2.27.1->wikibaseintegrator) (2022.12.7)\n",
            "Requirement already satisfied: idna<4,>=2.5 in /usr/local/lib/python3.8/dist-packages (from requests<2.29.0,>=2.27.1->wikibaseintegrator) (2.10)\n",
            "Requirement already satisfied: charset-normalizer<3,>=2 in /usr/local/lib/python3.8/dist-packages (from requests<2.29.0,>=2.27.1->wikibaseintegrator) (2.1.1)\n"
          ]
        }
      ],
      "source": [
        "#Installing libraries\n",
        "!pip install wikibaseintegrator"
      ]
    },
    {
      "cell_type": "code",
      "execution_count": 26,
      "metadata": {
        "id": "5g4IDyBupDb_"
      },
      "outputs": [],
      "source": [
        "#Calling libraries\n",
        "import urllib\n",
        "import pandas as pd\n",
        "from wikibaseintegrator import wbi_helpers\n",
        "from google.colab import drive"
      ]
    },
    {
      "cell_type": "code",
      "execution_count": 27,
      "metadata": {
        "colab": {
          "base_uri": "https://localhost:8080/"
        },
        "id": "0PiAratcpHC0",
        "outputId": "da60f19b-1d18-4717-aaf1-4ca9caa5bf1b"
      },
      "outputs": [
        {
          "output_type": "stream",
          "name": "stdout",
          "text": [
            "Drive already mounted at /content/drive; to attempt to forcibly remount, call drive.mount(\"/content/drive\", force_remount=True).\n"
          ]
        }
      ],
      "source": [
        "#Accessing the Google Drive\n",
        "drive.mount('/content/drive')"
      ]
    },
    {
      "cell_type": "code",
      "execution_count": 48,
      "metadata": {
        "id": "CyGI7s1SpJNH"
      },
      "outputs": [],
      "source": [
        "#Using the processed dataset if downloaded\n",
        "df = pd.read_csv(\"/content/drive/MyDrive/refinedkeywords.csv\", sep=\";\")"
      ]
    },
    {
      "cell_type": "code",
      "execution_count": 49,
      "metadata": {
        "colab": {
          "base_uri": "https://localhost:8080/"
        },
        "id": "VSsFIJpkplwe",
        "outputId": "c1cfc559-bc4f-439b-8595-5d71d140e6f6"
      },
      "outputs": [
        {
          "output_type": "stream",
          "name": "stdout",
          "text": [
            "<class 'pandas.core.frame.DataFrame'>\n",
            "RangeIndex: 46292 entries, 0 to 46291\n",
            "Data columns (total 8 columns):\n",
            " #   Column           Non-Null Count  Dtype \n",
            "---  ------           --------------  ----- \n",
            " 0   Keyword          46292 non-null  object\n",
            " 1   Class            46292 non-null  object\n",
            " 2   EID              46292 non-null  object\n",
            " 3   Year             46292 non-null  int64 \n",
            " 4   Highly Cited     46292 non-null  bool  \n",
            " 5   North Africa     46292 non-null  bool  \n",
            " 6   OA               46292 non-null  bool  \n",
            " 7   Journal Article  46292 non-null  bool  \n",
            "dtypes: bool(4), int64(1), object(3)\n",
            "memory usage: 1.6+ MB\n"
          ]
        }
      ],
      "source": [
        "df.info()"
      ]
    },
    {
      "cell_type": "code",
      "execution_count": 45,
      "metadata": {
        "id": "vBBr4fqUpvtR"
      },
      "outputs": [],
      "source": [
        "#Drop duplicates\n",
        "df.drop_duplicates(inplace=True)"
      ]
    },
    {
      "cell_type": "code",
      "source": [
        "#Eliminating uncommon keywords\n",
        "df[\"Keyword\"].str.lower().value_counts()[df[\"Keyword\"].str.lower().value_counts() < 9].index\n",
        "for w in df[\"Keyword\"].str.lower().value_counts()[df[\"Keyword\"].str.lower().value_counts() < 9].index:\n",
        "   df = df.drop(df[df[\"Keyword\"].str.lower() == w].index)"
      ],
      "metadata": {
        "id": "IjsAoUsoqHHS"
      },
      "execution_count": 32,
      "outputs": []
    },
    {
      "cell_type": "code",
      "source": [
        "#Homogenizing the class names\n",
        "for w in df[\"Keyword\"].str.lower().value_counts().index:\n",
        "  df[\"Class\"] = [df[df[\"Keyword\"].str.lower() == w][\"Class\"].value_counts().index[0] if keyword.lower() == w else keyword for keyword in df[\"Class\"]]"
      ],
      "metadata": {
        "id": "tgOQGeYFs9UC"
      },
      "execution_count": 41,
      "outputs": []
    },
    {
      "cell_type": "code",
      "execution_count": 47,
      "metadata": {
        "id": "Dr0fuifoqXn2"
      },
      "outputs": [],
      "source": [
        "#Saving the processed dataset\n",
        "df.to_csv(\"/content/drive/MyDrive/refinedkeywords.csv\", sep=\";\", index=False)"
      ]
    }
  ],
  "metadata": {
    "colab": {
      "provenance": []
    },
    "kernelspec": {
      "display_name": "Python 3",
      "name": "python3"
    },
    "language_info": {
      "name": "python"
    }
  },
  "nbformat": 4,
  "nbformat_minor": 0
}