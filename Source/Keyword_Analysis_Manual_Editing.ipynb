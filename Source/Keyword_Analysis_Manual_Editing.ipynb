{
  "cells": [
    {
      "cell_type": "code",
      "execution_count": 1,
      "metadata": {
        "colab": {
          "base_uri": "https://localhost:8080/"
        },
        "id": "8Znnjim4j1i2",
        "outputId": "cbc97f3d-e73e-42b8-aa8d-45d03f3429e5"
      },
      "outputs": [
        {
          "output_type": "stream",
          "name": "stdout",
          "text": [
            "Looking in indexes: https://pypi.org/simple, https://us-python.pkg.dev/colab-wheels/public/simple/\n",
            "Collecting wikibaseintegrator\n",
            "  Downloading wikibaseintegrator-0.12.2-py3-none-any.whl (90 kB)\n",
            "\u001b[K     |████████████████████████████████| 90 kB 4.0 MB/s \n",
            "\u001b[?25hCollecting ujson<5.6,>=5.4\n",
            "  Downloading ujson-5.5.0-cp38-cp38-manylinux_2_17_x86_64.manylinux2014_x86_64.whl (46 kB)\n",
            "\u001b[K     |████████████████████████████████| 46 kB 3.1 MB/s \n",
            "\u001b[?25hCollecting mwoauth~=0.3.8\n",
            "  Downloading mwoauth-0.3.8-py3-none-any.whl (13 kB)\n",
            "Requirement already satisfied: requests-oauthlib~=1.3.1 in /usr/local/lib/python3.8/dist-packages (from wikibaseintegrator) (1.3.1)\n",
            "Collecting requests<2.29.0,>=2.27.1\n",
            "  Downloading requests-2.28.1-py3-none-any.whl (62 kB)\n",
            "\u001b[K     |████████████████████████████████| 62 kB 1.3 MB/s \n",
            "\u001b[?25hRequirement already satisfied: oauthlib~=3.2.0 in /usr/local/lib/python3.8/dist-packages (from wikibaseintegrator) (3.2.2)\n",
            "Collecting backoff<2.3.0,>=1.11.1\n",
            "  Downloading backoff-2.2.1-py3-none-any.whl (15 kB)\n",
            "Requirement already satisfied: six in /usr/local/lib/python3.8/dist-packages (from mwoauth~=0.3.8->wikibaseintegrator) (1.15.0)\n",
            "Collecting PyJWT>=1.0.1\n",
            "  Downloading PyJWT-2.6.0-py3-none-any.whl (20 kB)\n",
            "Requirement already satisfied: charset-normalizer<3,>=2 in /usr/local/lib/python3.8/dist-packages (from requests<2.29.0,>=2.27.1->wikibaseintegrator) (2.1.1)\n",
            "Requirement already satisfied: urllib3<1.27,>=1.21.1 in /usr/local/lib/python3.8/dist-packages (from requests<2.29.0,>=2.27.1->wikibaseintegrator) (1.24.3)\n",
            "Requirement already satisfied: idna<4,>=2.5 in /usr/local/lib/python3.8/dist-packages (from requests<2.29.0,>=2.27.1->wikibaseintegrator) (2.10)\n",
            "Requirement already satisfied: certifi>=2017.4.17 in /usr/local/lib/python3.8/dist-packages (from requests<2.29.0,>=2.27.1->wikibaseintegrator) (2022.12.7)\n",
            "Installing collected packages: requests, PyJWT, ujson, mwoauth, backoff, wikibaseintegrator\n",
            "  Attempting uninstall: requests\n",
            "    Found existing installation: requests 2.23.0\n",
            "    Uninstalling requests-2.23.0:\n",
            "      Successfully uninstalled requests-2.23.0\n",
            "Successfully installed PyJWT-2.6.0 backoff-2.2.1 mwoauth-0.3.8 requests-2.28.1 ujson-5.5.0 wikibaseintegrator-0.12.2\n"
          ]
        }
      ],
      "source": [
        "#Installing libraries\n",
        "!pip install wikibaseintegrator"
      ]
    },
    {
      "cell_type": "code",
      "execution_count": 2,
      "metadata": {
        "id": "Eo8nFHfckJVi"
      },
      "outputs": [],
      "source": [
        "#Calling libraries\n",
        "import urllib\n",
        "import pandas as pd\n",
        "from wikibaseintegrator import wbi_helpers\n",
        "from google.colab import drive"
      ]
    },
    {
      "cell_type": "code",
      "execution_count": 3,
      "metadata": {
        "colab": {
          "base_uri": "https://localhost:8080/"
        },
        "id": "VKX45j_fOKyt",
        "outputId": "2f70eb2a-3547-4957-de4d-b951569c7650"
      },
      "outputs": [
        {
          "output_type": "stream",
          "name": "stdout",
          "text": [
            "Mounted at /content/drive\n"
          ]
        }
      ],
      "source": [
        "#Accessing the Google Drive\n",
        "drive.mount('/content/drive')"
      ]
    },
    {
      "cell_type": "markdown",
      "metadata": {
        "id": "_6n8nCftgKUh"
      },
      "source": [
        "Begin from here when you have already processed the dataset before."
      ]
    },
    {
      "cell_type": "code",
      "execution_count": 60,
      "metadata": {
        "id": "hxCPS2_RNEDc"
      },
      "outputs": [],
      "source": [
        "#Using the processed dataset if downloaded\n",
        "df = pd.read_csv(\"/content/drive/MyDrive/keywords.csv\", sep=\";\")"
      ]
    },
    {
      "cell_type": "code",
      "execution_count": 61,
      "metadata": {
        "colab": {
          "base_uri": "https://localhost:8080/"
        },
        "id": "qNycfCXikg4V",
        "outputId": "80bf451a-7f8e-48d7-a356-39a07b0b2483"
      },
      "outputs": [
        {
          "output_type": "stream",
          "name": "stdout",
          "text": [
            "<class 'pandas.core.frame.DataFrame'>\n",
            "RangeIndex: 1537 entries, 0 to 1536\n",
            "Data columns (total 10 columns):\n",
            " #   Column           Non-Null Count  Dtype \n",
            "---  ------           --------------  ----- \n",
            " 0   Keyword          1537 non-null   object\n",
            " 1   EID              1537 non-null   object\n",
            " 2   Year             1537 non-null   int64 \n",
            " 3   Type             1537 non-null   object\n",
            " 4   Highly Cited     1537 non-null   bool  \n",
            " 5   North Africa     1537 non-null   bool  \n",
            " 6   OA               1537 non-null   bool  \n",
            " 7   Journal Article  1537 non-null   bool  \n",
            " 8   RefinedKeyword   1537 non-null   object\n",
            " 9   Class            1537 non-null   object\n",
            "dtypes: bool(4), int64(1), object(5)\n",
            "memory usage: 78.2+ KB\n"
          ]
        }
      ],
      "source": [
        "df.info()"
      ]
    },
    {
      "cell_type": "code",
      "source": [
        "df[\"Keyword\"].str.lower().value_counts()"
      ],
      "metadata": {
        "colab": {
          "base_uri": "https://localhost:8080/"
        },
        "id": "RSvgFiEodrj0",
        "outputId": "c62b66ee-b107-454d-a63f-26a29f0669c6"
      },
      "execution_count": 68,
      "outputs": [
        {
          "output_type": "execute_result",
          "data": {
            "text/plain": [
              "imaging                         8\n",
              "health behavior                 8\n",
              "optical tomography              8\n",
              "computer graphics               8\n",
              "antimalarial agent              8\n",
              "                               ..\n",
              "learning-based methods          8\n",
              "infection risk                  8\n",
              "cancer therapy                  8\n",
              "interactive computer systems    8\n",
              "machine learning application    8\n",
              "Name: Keyword, Length: 191, dtype: int64"
            ]
          },
          "metadata": {},
          "execution_count": 68
        }
      ]
    },
    {
      "cell_type": "code",
      "source": [
        "#Eliminating uncommon noun phrases and keywords\n",
        "df[\"Keyword\"].str.lower().value_counts()[df[\"Keyword\"].str.lower().value_counts() < 9].index\n",
        "for w in df[\"Keyword\"].str.lower().value_counts()[df[\"Keyword\"].str.lower().value_counts() < 9].index:\n",
        "   df = df.drop(df[df[\"RefinedKeyword\"].str.lower() == w].index)"
      ],
      "metadata": {
        "id": "_SpV9xITA5PW"
      },
      "execution_count": null,
      "outputs": []
    },
    {
      "cell_type": "code",
      "source": [
        "#Manually processing remaining keywords\n",
        "df[\"RefinedKeyword\"] = df[\"Keyword\"]\n",
        "df[\"Class\"] = df[\"Keyword\"]\n",
        "for item in df[\"Keyword\"].str.lower().value_counts().index:\n",
        "  keyw = input(\"What is the keyword for \" + item)\n",
        "  classw = input(\"What is the class for \" + item)\n",
        "  df[\"RefinedKeyword\"] = [keyw if keyword.lower() == item else keyword for keyword in df[\"RefinedKeyword\"]]\n",
        "  df[\"Class\"] = [classw if keyword.lower() == item else keyword for keyword in df[\"Class\"]]\n",
        "  df = df.drop(df[df[\"RefinedKeyword\"].str.lower() == \"n\"].index)"
      ],
      "metadata": {
        "id": "4JYBBIze8Owu"
      },
      "execution_count": null,
      "outputs": []
    },
    {
      "cell_type": "code",
      "execution_count": 67,
      "metadata": {
        "id": "GtbGkXY_PXpB"
      },
      "outputs": [],
      "source": [
        "#Updating datasets\n",
        "for i in df.index:\n",
        "      if (df[\"RefinedKeyword\"][i] != df[\"Class\"][i]):\n",
        "        with open(\"/content/drive/MyDrive/refinedkeywords.csv\", \"a\") as f:\n",
        "          f.write(df[\"RefinedKeyword\"][i]+\";\"+df[\"Class\"][i]+\";\"+df[\"EID\"][i]+\";\"+str(df[\"Year\"][i])+\";\"+str(df[\"Highly Cited\"][i])+\";\"+str(df[\"North Africa\"][i])+\";\"+str(df[\"OA\"][i])+\";\"+str(df[\"Journal Article\"][i])+\"\\n\")\n",
        "        df = df.drop(i)"
      ]
    },
    {
      "cell_type": "code",
      "execution_count": 69,
      "metadata": {
        "id": "LCMzV6N5Q_TE"
      },
      "outputs": [],
      "source": [
        "#Saving the processed dataset\n",
        "df.to_csv(\"/content/drive/MyDrive/keywords.csv\", sep=\";\", index=False)"
      ]
    }
  ],
  "metadata": {
    "colab": {
      "provenance": []
    },
    "kernelspec": {
      "display_name": "Python 3",
      "name": "python3"
    },
    "language_info": {
      "name": "python"
    }
  },
  "nbformat": 4,
  "nbformat_minor": 0
}