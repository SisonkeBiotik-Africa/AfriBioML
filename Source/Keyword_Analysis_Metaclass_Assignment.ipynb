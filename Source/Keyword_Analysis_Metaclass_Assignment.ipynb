{
  "cells": [
    {
      "cell_type": "code",
      "execution_count": 2,
      "metadata": {
        "id": "lPdgINUqrKV-"
      },
      "outputs": [],
      "source": [
        "#Calling libraries\n",
        "import urllib\n",
        "import pandas as pd\n",
        "import numpy as np"
      ]
    },
    {
      "cell_type": "code",
      "execution_count": 26,
      "metadata": {
        "colab": {
          "base_uri": "https://localhost:8080/"
        },
        "id": "UVEiUEk6rVhi",
        "outputId": "28706bf2-e16e-4118-e350-ad3533d346ec"
      },
      "outputs": [
        {
          "output_type": "execute_result",
          "data": {
            "text/plain": [
              "('refinedkeywords.csv', <http.client.HTTPMessage at 0x7ffa61cc6460>)"
            ]
          },
          "metadata": {},
          "execution_count": 26
        }
      ],
      "source": [
        "#Retrieving files\n",
        "urllib.request.urlretrieve(\"https://github.com/SisonkeBiotik-Africa/AfriBioML/blob/main/XLS/refinedkeywords_metaclasses_ready.xlsx?raw=true\", \"refinedkeywords_metaclasses_ready.xlsx\")\n",
        "urllib.request.urlretrieve(\"https://github.com/SisonkeBiotik-Africa/AfriBioML/blob/main/CSV/refinedkeywords.csv?raw=true\", \"refinedkeywords.csv\")"
      ]
    },
    {
      "cell_type": "code",
      "execution_count": 27,
      "metadata": {
        "id": "_-pt_JZ_r44N"
      },
      "outputs": [],
      "source": [
        "#Creating dataframes\n",
        "df_dict = pd.read_excel(\"refinedkeywords_metaclasses_ready.xlsx\")\n",
        "df_keywords = pd.read_csv(\"refinedkeywords.csv\", sep=\";\")"
      ]
    },
    {
      "cell_type": "code",
      "execution_count": 28,
      "metadata": {
        "id": "rAS8q9lnyCAS"
      },
      "outputs": [],
      "source": [
        "#Creating dict for metaclasses\n",
        "gen_dict = {}\n",
        "for i in range(len(df_dict)):\n",
        "  gen_dict[df_dict[\"Keyword\"][i]] = df_dict[\"Discipline\"][i]"
      ]
    },
    {
      "cell_type": "code",
      "execution_count": 29,
      "metadata": {
        "colab": {
          "base_uri": "https://localhost:8080/"
        },
        "id": "zyU_bpaKs7C5",
        "outputId": "cd13211b-7fae-4914-8ca7-eeb859ecffbe"
      },
      "outputs": [
        {
          "output_type": "stream",
          "name": "stderr",
          "text": [
            "<ipython-input-29-e30df8d5f6f0>:4: SettingWithCopyWarning: \n",
            "A value is trying to be set on a copy of a slice from a DataFrame\n",
            "\n",
            "See the caveats in the documentation: https://pandas.pydata.org/pandas-docs/stable/user_guide/indexing.html#returning-a-view-versus-a-copy\n",
            "  keyword_l[i] = gen_dict[keyword_l[i]]\n"
          ]
        }
      ],
      "source": [
        "#Adding metaclasses to entities\n",
        "keyword_l = df_keywords[\"Keyword\"]\n",
        "for i in range(len(keyword_l)):\n",
        "  keyword_l[i] = gen_dict[keyword_l[i]]"
      ]
    },
    {
      "cell_type": "code",
      "source": [
        "keyword_l"
      ],
      "metadata": {
        "id": "TUo8-pqlFJLa",
        "outputId": "dde43106-639f-4cea-8454-baaae220c6cb",
        "colab": {
          "base_uri": "https://localhost:8080/"
        }
      },
      "execution_count": 30,
      "outputs": [
        {
          "output_type": "execute_result",
          "data": {
            "text/plain": [
              "0        computer science\n",
              "1                medicine\n",
              "2        computer science\n",
              "3        computer science\n",
              "4        computer science\n",
              "               ...       \n",
              "46287            medicine\n",
              "46288            medicine\n",
              "46289            medicine\n",
              "46290            medicine\n",
              "46291            medicine\n",
              "Name: Keyword, Length: 46292, dtype: object"
            ]
          },
          "metadata": {},
          "execution_count": 30
        }
      ]
    },
    {
      "cell_type": "code",
      "source": [
        "df_keywords[\"Class\"] = keyword_l"
      ],
      "metadata": {
        "id": "ITqIMxtqFTQB"
      },
      "execution_count": 31,
      "outputs": []
    },
    {
      "cell_type": "code",
      "execution_count": 32,
      "metadata": {
        "id": "kzbKGUG5wAX4",
        "outputId": "0f8d8cda-a522-4a39-bc4b-3ae9d24e40e4",
        "colab": {
          "base_uri": "https://localhost:8080/",
          "height": 424
        }
      },
      "outputs": [
        {
          "output_type": "execute_result",
          "data": {
            "text/plain": [
              "                Keyword             Class                 EID  Year  \\\n",
              "0      computer science  computer science  2-s2.0-85084656133  2020   \n",
              "1              medicine          medicine  2-s2.0-85084656133  2020   \n",
              "2      computer science  computer science  2-s2.0-85084656133  2020   \n",
              "3      computer science  computer science  2-s2.0-85087655069  2020   \n",
              "4      computer science  computer science  2-s2.0-85087655069  2020   \n",
              "...                 ...               ...                 ...   ...   \n",
              "46287          medicine          medicine  2-s2.0-85136592056  2022   \n",
              "46288          medicine          medicine  2-s2.0-85127957174  2022   \n",
              "46289          medicine          medicine  2-s2.0-85135519111  2022   \n",
              "46290          medicine          medicine  2-s2.0-85133644664  2022   \n",
              "46291          medicine          medicine  2-s2.0-85065766999  2019   \n",
              "\n",
              "       Highly Cited  North Africa     OA  Journal Article  \n",
              "0              True          True   True             True  \n",
              "1              True          True   True             True  \n",
              "2              True          True   True             True  \n",
              "3              True          True  False             True  \n",
              "4              True          True  False             True  \n",
              "...             ...           ...    ...              ...  \n",
              "46287         False          True   True             True  \n",
              "46288         False          True   True             True  \n",
              "46289         False          True   True             True  \n",
              "46290         False         False   True             True  \n",
              "46291         False         False  False            False  \n",
              "\n",
              "[46292 rows x 8 columns]"
            ],
            "text/html": [
              "\n",
              "  <div id=\"df-9ad350ea-3094-410b-994b-2d1a28a51be3\">\n",
              "    <div class=\"colab-df-container\">\n",
              "      <div>\n",
              "<style scoped>\n",
              "    .dataframe tbody tr th:only-of-type {\n",
              "        vertical-align: middle;\n",
              "    }\n",
              "\n",
              "    .dataframe tbody tr th {\n",
              "        vertical-align: top;\n",
              "    }\n",
              "\n",
              "    .dataframe thead th {\n",
              "        text-align: right;\n",
              "    }\n",
              "</style>\n",
              "<table border=\"1\" class=\"dataframe\">\n",
              "  <thead>\n",
              "    <tr style=\"text-align: right;\">\n",
              "      <th></th>\n",
              "      <th>Keyword</th>\n",
              "      <th>Class</th>\n",
              "      <th>EID</th>\n",
              "      <th>Year</th>\n",
              "      <th>Highly Cited</th>\n",
              "      <th>North Africa</th>\n",
              "      <th>OA</th>\n",
              "      <th>Journal Article</th>\n",
              "    </tr>\n",
              "  </thead>\n",
              "  <tbody>\n",
              "    <tr>\n",
              "      <th>0</th>\n",
              "      <td>computer science</td>\n",
              "      <td>computer science</td>\n",
              "      <td>2-s2.0-85084656133</td>\n",
              "      <td>2020</td>\n",
              "      <td>True</td>\n",
              "      <td>True</td>\n",
              "      <td>True</td>\n",
              "      <td>True</td>\n",
              "    </tr>\n",
              "    <tr>\n",
              "      <th>1</th>\n",
              "      <td>medicine</td>\n",
              "      <td>medicine</td>\n",
              "      <td>2-s2.0-85084656133</td>\n",
              "      <td>2020</td>\n",
              "      <td>True</td>\n",
              "      <td>True</td>\n",
              "      <td>True</td>\n",
              "      <td>True</td>\n",
              "    </tr>\n",
              "    <tr>\n",
              "      <th>2</th>\n",
              "      <td>computer science</td>\n",
              "      <td>computer science</td>\n",
              "      <td>2-s2.0-85084656133</td>\n",
              "      <td>2020</td>\n",
              "      <td>True</td>\n",
              "      <td>True</td>\n",
              "      <td>True</td>\n",
              "      <td>True</td>\n",
              "    </tr>\n",
              "    <tr>\n",
              "      <th>3</th>\n",
              "      <td>computer science</td>\n",
              "      <td>computer science</td>\n",
              "      <td>2-s2.0-85087655069</td>\n",
              "      <td>2020</td>\n",
              "      <td>True</td>\n",
              "      <td>True</td>\n",
              "      <td>False</td>\n",
              "      <td>True</td>\n",
              "    </tr>\n",
              "    <tr>\n",
              "      <th>4</th>\n",
              "      <td>computer science</td>\n",
              "      <td>computer science</td>\n",
              "      <td>2-s2.0-85087655069</td>\n",
              "      <td>2020</td>\n",
              "      <td>True</td>\n",
              "      <td>True</td>\n",
              "      <td>False</td>\n",
              "      <td>True</td>\n",
              "    </tr>\n",
              "    <tr>\n",
              "      <th>...</th>\n",
              "      <td>...</td>\n",
              "      <td>...</td>\n",
              "      <td>...</td>\n",
              "      <td>...</td>\n",
              "      <td>...</td>\n",
              "      <td>...</td>\n",
              "      <td>...</td>\n",
              "      <td>...</td>\n",
              "    </tr>\n",
              "    <tr>\n",
              "      <th>46287</th>\n",
              "      <td>medicine</td>\n",
              "      <td>medicine</td>\n",
              "      <td>2-s2.0-85136592056</td>\n",
              "      <td>2022</td>\n",
              "      <td>False</td>\n",
              "      <td>True</td>\n",
              "      <td>True</td>\n",
              "      <td>True</td>\n",
              "    </tr>\n",
              "    <tr>\n",
              "      <th>46288</th>\n",
              "      <td>medicine</td>\n",
              "      <td>medicine</td>\n",
              "      <td>2-s2.0-85127957174</td>\n",
              "      <td>2022</td>\n",
              "      <td>False</td>\n",
              "      <td>True</td>\n",
              "      <td>True</td>\n",
              "      <td>True</td>\n",
              "    </tr>\n",
              "    <tr>\n",
              "      <th>46289</th>\n",
              "      <td>medicine</td>\n",
              "      <td>medicine</td>\n",
              "      <td>2-s2.0-85135519111</td>\n",
              "      <td>2022</td>\n",
              "      <td>False</td>\n",
              "      <td>True</td>\n",
              "      <td>True</td>\n",
              "      <td>True</td>\n",
              "    </tr>\n",
              "    <tr>\n",
              "      <th>46290</th>\n",
              "      <td>medicine</td>\n",
              "      <td>medicine</td>\n",
              "      <td>2-s2.0-85133644664</td>\n",
              "      <td>2022</td>\n",
              "      <td>False</td>\n",
              "      <td>False</td>\n",
              "      <td>True</td>\n",
              "      <td>True</td>\n",
              "    </tr>\n",
              "    <tr>\n",
              "      <th>46291</th>\n",
              "      <td>medicine</td>\n",
              "      <td>medicine</td>\n",
              "      <td>2-s2.0-85065766999</td>\n",
              "      <td>2019</td>\n",
              "      <td>False</td>\n",
              "      <td>False</td>\n",
              "      <td>False</td>\n",
              "      <td>False</td>\n",
              "    </tr>\n",
              "  </tbody>\n",
              "</table>\n",
              "<p>46292 rows × 8 columns</p>\n",
              "</div>\n",
              "      <button class=\"colab-df-convert\" onclick=\"convertToInteractive('df-9ad350ea-3094-410b-994b-2d1a28a51be3')\"\n",
              "              title=\"Convert this dataframe to an interactive table.\"\n",
              "              style=\"display:none;\">\n",
              "        \n",
              "  <svg xmlns=\"http://www.w3.org/2000/svg\" height=\"24px\"viewBox=\"0 0 24 24\"\n",
              "       width=\"24px\">\n",
              "    <path d=\"M0 0h24v24H0V0z\" fill=\"none\"/>\n",
              "    <path d=\"M18.56 5.44l.94 2.06.94-2.06 2.06-.94-2.06-.94-.94-2.06-.94 2.06-2.06.94zm-11 1L8.5 8.5l.94-2.06 2.06-.94-2.06-.94L8.5 2.5l-.94 2.06-2.06.94zm10 10l.94 2.06.94-2.06 2.06-.94-2.06-.94-.94-2.06-.94 2.06-2.06.94z\"/><path d=\"M17.41 7.96l-1.37-1.37c-.4-.4-.92-.59-1.43-.59-.52 0-1.04.2-1.43.59L10.3 9.45l-7.72 7.72c-.78.78-.78 2.05 0 2.83L4 21.41c.39.39.9.59 1.41.59.51 0 1.02-.2 1.41-.59l7.78-7.78 2.81-2.81c.8-.78.8-2.07 0-2.86zM5.41 20L4 18.59l7.72-7.72 1.47 1.35L5.41 20z\"/>\n",
              "  </svg>\n",
              "      </button>\n",
              "      \n",
              "  <style>\n",
              "    .colab-df-container {\n",
              "      display:flex;\n",
              "      flex-wrap:wrap;\n",
              "      gap: 12px;\n",
              "    }\n",
              "\n",
              "    .colab-df-convert {\n",
              "      background-color: #E8F0FE;\n",
              "      border: none;\n",
              "      border-radius: 50%;\n",
              "      cursor: pointer;\n",
              "      display: none;\n",
              "      fill: #1967D2;\n",
              "      height: 32px;\n",
              "      padding: 0 0 0 0;\n",
              "      width: 32px;\n",
              "    }\n",
              "\n",
              "    .colab-df-convert:hover {\n",
              "      background-color: #E2EBFA;\n",
              "      box-shadow: 0px 1px 2px rgba(60, 64, 67, 0.3), 0px 1px 3px 1px rgba(60, 64, 67, 0.15);\n",
              "      fill: #174EA6;\n",
              "    }\n",
              "\n",
              "    [theme=dark] .colab-df-convert {\n",
              "      background-color: #3B4455;\n",
              "      fill: #D2E3FC;\n",
              "    }\n",
              "\n",
              "    [theme=dark] .colab-df-convert:hover {\n",
              "      background-color: #434B5C;\n",
              "      box-shadow: 0px 1px 3px 1px rgba(0, 0, 0, 0.15);\n",
              "      filter: drop-shadow(0px 1px 2px rgba(0, 0, 0, 0.3));\n",
              "      fill: #FFFFFF;\n",
              "    }\n",
              "  </style>\n",
              "\n",
              "      <script>\n",
              "        const buttonEl =\n",
              "          document.querySelector('#df-9ad350ea-3094-410b-994b-2d1a28a51be3 button.colab-df-convert');\n",
              "        buttonEl.style.display =\n",
              "          google.colab.kernel.accessAllowed ? 'block' : 'none';\n",
              "\n",
              "        async function convertToInteractive(key) {\n",
              "          const element = document.querySelector('#df-9ad350ea-3094-410b-994b-2d1a28a51be3');\n",
              "          const dataTable =\n",
              "            await google.colab.kernel.invokeFunction('convertToInteractive',\n",
              "                                                     [key], {});\n",
              "          if (!dataTable) return;\n",
              "\n",
              "          const docLinkHtml = 'Like what you see? Visit the ' +\n",
              "            '<a target=\"_blank\" href=https://colab.research.google.com/notebooks/data_table.ipynb>data table notebook</a>'\n",
              "            + ' to learn more about interactive tables.';\n",
              "          element.innerHTML = '';\n",
              "          dataTable['output_type'] = 'display_data';\n",
              "          await google.colab.output.renderOutput(dataTable, element);\n",
              "          const docLink = document.createElement('div');\n",
              "          docLink.innerHTML = docLinkHtml;\n",
              "          element.appendChild(docLink);\n",
              "        }\n",
              "      </script>\n",
              "    </div>\n",
              "  </div>\n",
              "  "
            ]
          },
          "metadata": {},
          "execution_count": 32
        }
      ],
      "source": [
        "df_keywords"
      ]
    },
    {
      "cell_type": "code",
      "source": [
        "#Saving file\n",
        "df_keywords.to_csv(\"refinedkeywords_final.csv\", sep=\";\")"
      ],
      "metadata": {
        "id": "9qLJzvVoJhHg"
      },
      "execution_count": 33,
      "outputs": []
    }
  ],
  "metadata": {
    "colab": {
      "provenance": []
    },
    "kernelspec": {
      "display_name": "Python 3",
      "name": "python3"
    },
    "language_info": {
      "name": "python"
    },
    "gpuClass": "standard",
    "accelerator": "GPU"
  },
  "nbformat": 4,
  "nbformat_minor": 0
}