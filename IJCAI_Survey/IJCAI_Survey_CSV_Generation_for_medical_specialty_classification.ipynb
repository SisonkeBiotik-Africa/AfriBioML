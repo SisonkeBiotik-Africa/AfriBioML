{
  "cells": [
    {
      "cell_type": "code",
      "execution_count": 1,
      "metadata": {
        "id": "lPdgINUqrKV-"
      },
      "outputs": [],
      "source": [
        "#Calling libraries\n",
        "import urllib\n",
        "import pandas as pd\n",
        "import numpy as np"
      ]
    },
    {
      "cell_type": "code",
      "execution_count": 2,
      "metadata": {
        "colab": {
          "base_uri": "https://localhost:8080/"
        },
        "id": "UVEiUEk6rVhi",
        "outputId": "49b0e7e4-c1c9-406b-8bac-474aa002a569"
      },
      "outputs": [
        {
          "output_type": "execute_result",
          "data": {
            "text/plain": [
              "('categorizedp.csv', <http.client.HTTPMessage at 0x7f08278edb50>)"
            ]
          },
          "metadata": {},
          "execution_count": 2
        }
      ],
      "source": [
        "#Retrieving file\n",
        "urllib.request.urlretrieve(\"https://raw.githubusercontent.com/SisonkeBiotik-Africa/AfriBioML/main/IJCAI_Survey/categorizedp.csv\", \"categorizedp.csv\")"
      ]
    },
    {
      "cell_type": "code",
      "execution_count": 3,
      "metadata": {
        "id": "_-pt_JZ_r44N"
      },
      "outputs": [],
      "source": [
        "#Creating dataframe\n",
        "df = pd.read_csv(\"categorizedp.csv\", sep=\";\")"
      ]
    },
    {
      "cell_type": "code",
      "execution_count": 4,
      "metadata": {
        "colab": {
          "base_uri": "https://localhost:8080/"
        },
        "id": "rAS8q9lnyCAS",
        "outputId": "424930ab-eb8b-4198-bc5e-fe5545679202"
      },
      "outputs": [
        {
          "output_type": "execute_result",
          "data": {
            "text/plain": [
              "(10492, 7)"
            ]
          },
          "metadata": {},
          "execution_count": 4
        }
      ],
      "source": [
        "df.shape"
      ]
    },
    {
      "cell_type": "code",
      "execution_count": 5,
      "metadata": {
        "colab": {
          "base_uri": "https://localhost:8080/"
        },
        "id": "zyU_bpaKs7C5",
        "outputId": "4b36eebe-f466-40d3-c60b-35f665dea3e0"
      },
      "outputs": [
        {
          "output_type": "stream",
          "name": "stdout",
          "text": [
            "<class 'pandas.core.frame.DataFrame'>\n",
            "RangeIndex: 10492 entries, 0 to 10491\n",
            "Data columns (total 7 columns):\n",
            " #   Column        Non-Null Count  Dtype \n",
            "---  ------        --------------  ----- \n",
            " 0   Title         10492 non-null  object\n",
            " 1   EID           10492 non-null  object\n",
            " 2   DOI           10256 non-null  object\n",
            " 3   DocumentType  10492 non-null  object\n",
            " 4   Year          10492 non-null  int64 \n",
            " 5   Disease       10492 non-null  object\n",
            " 6   Category      10492 non-null  object\n",
            "dtypes: int64(1), object(6)\n",
            "memory usage: 573.9+ KB\n"
          ]
        }
      ],
      "source": [
        "df.info()"
      ]
    },
    {
      "cell_type": "code",
      "execution_count": 15,
      "metadata": {
        "id": "kzbKGUG5wAX4"
      },
      "outputs": [],
      "source": [
        "#Eliminating useless columns from the dataframe\n",
        "considered = np.r_[0, 1, 2, 3, 4, 6]\n",
        "dfrestricted = df.iloc[:,considered]"
      ]
    },
    {
      "cell_type": "code",
      "execution_count": 7,
      "metadata": {
        "colab": {
          "base_uri": "https://localhost:8080/"
        },
        "id": "NW1P1yrW20ng",
        "outputId": "dba6c738-1fbe-47bf-c4df-378d3ec9bbf1"
      },
      "outputs": [
        {
          "output_type": "stream",
          "name": "stdout",
          "text": [
            "<class 'pandas.core.frame.DataFrame'>\n",
            "RangeIndex: 10492 entries, 0 to 10491\n",
            "Data columns (total 3 columns):\n",
            " #   Column    Non-Null Count  Dtype \n",
            "---  ------    --------------  ----- \n",
            " 0   Title     10492 non-null  object\n",
            " 1   EID       10492 non-null  object\n",
            " 2   Category  10492 non-null  object\n",
            "dtypes: object(3)\n",
            "memory usage: 246.0+ KB\n"
          ]
        }
      ],
      "source": [
        "dfrestricted.info()"
      ]
    },
    {
      "cell_type": "code",
      "source": [
        "dfrestricted = dfrestricted.drop_duplicates(keep=\"first\")"
      ],
      "metadata": {
        "id": "tKldCoAqNZst"
      },
      "execution_count": 16,
      "outputs": []
    },
    {
      "cell_type": "code",
      "source": [
        "dict(dfrestricted[\"Category\"].value_counts())"
      ],
      "metadata": {
        "colab": {
          "base_uri": "https://localhost:8080/"
        },
        "id": "EawH-5ObRWJ5",
        "outputId": "97534892-80e2-4ab1-9eef-baa460b222b3"
      },
      "execution_count": 17,
      "outputs": [
        {
          "output_type": "execute_result",
          "data": {
            "text/plain": [
              "{'infectious diseases': 899,\n",
              " 'psychology': 674,\n",
              " 'emergency medicine': 665,\n",
              " 'oncology': 622,\n",
              " 'neurology': 602,\n",
              " 'medical genetics': 342,\n",
              " 'obstetrics': 272,\n",
              " 'cardiology': 229,\n",
              " 'diabetology': 152,\n",
              " 'pathology': 139,\n",
              " 'neurosurgery': 130,\n",
              " 'pulmonology': 128,\n",
              " 'psychiatry': 107,\n",
              " 'dermatology': 101,\n",
              " 'tropical medicine': 83,\n",
              " 'angiology': 83,\n",
              " 'family medicine': 73,\n",
              " 'gastroenterology': 66,\n",
              " 'urology': 57,\n",
              " 'endocrinology': 57,\n",
              " 'ophthalmology': 56,\n",
              " 'otolaryngology': 53,\n",
              " 'surgery': 50,\n",
              " 'rhythmology': 50,\n",
              " 'epileptology': 49,\n",
              " 'clinical psychology': 47,\n",
              " 'hematology': 40,\n",
              " 'nephrology': 39,\n",
              " 'teratology': 34,\n",
              " 'rheumatology': 31,\n",
              " 'immunology': 26,\n",
              " 'clinical pathology': 25,\n",
              " 'psychotherapist': 22,\n",
              " 'pediatrics': 21,\n",
              " 'pediatric cardiac surgery': 20,\n",
              " 'gynaecology': 20,\n",
              " 'primary care': 19,\n",
              " 'vascular surgery': 13,\n",
              " 'hepatology': 13,\n",
              " 'dentistry': 12,\n",
              " 'osteology': 11,\n",
              " 'general surgery': 10,\n",
              " 'epidemiology': 10,\n",
              " 'transplantology': 10,\n",
              " 'narcology': 9,\n",
              " 'optometry': 8,\n",
              " 'sports medicine': 7,\n",
              " 'oral surgery': 6,\n",
              " 'nutrition': 6,\n",
              " 'veterinary medicine': 6,\n",
              " 'anatomy': 6,\n",
              " 'medical toxicology': 6,\n",
              " 'sleep medicine': 5,\n",
              " 'orthodontics': 5,\n",
              " 'orthopedics': 4,\n",
              " 'emetology': 4,\n",
              " 'oral and maxillofacial surgery': 4,\n",
              " 'allergology': 3,\n",
              " 'scintigraphy': 3,\n",
              " 'neurotechnology': 3,\n",
              " 'podiatry': 3,\n",
              " 'internal medicine': 3,\n",
              " 'speech-language pathology': 3,\n",
              " 'reproductive medicine': 3,\n",
              " 'electrophysiology': 3,\n",
              " 'ophthalmologist': 2,\n",
              " 'rhinology': 2,\n",
              " 'gynecologic oncology': 2,\n",
              " 'neonatology': 2,\n",
              " 'oral medicine': 2,\n",
              " 'geriatrics': 2,\n",
              " 'rehabilitation': 2,\n",
              " 'addiction medicine': 2,\n",
              " 'obstetrics and gynaecology': 2,\n",
              " 'neuromuscular medicine': 1,\n",
              " 'sports traumatology': 1,\n",
              " 'Oncology': 1,\n",
              " 'neurooncology': 1,\n",
              " 'phoniatrics': 1,\n",
              " 'neuropsychiatry': 1,\n",
              " 'pediatrician': 1,\n",
              " 'Neuroscience of aging': 1,\n",
              " 'interventional neuroradiology': 1,\n",
              " 'reproductive endocrinology and infertility': 1,\n",
              " 'digestive system surgery': 1,\n",
              " 'pediatric surgery': 1,\n",
              " 'preventive medicine': 1,\n",
              " 'vocational rehab': 1,\n",
              " 'perioperative medicine': 1,\n",
              " 'Audiology': 1,\n",
              " 'Maxillofacial plastic and reconstructive surgery': 1,\n",
              " 'hemorheology': 1,\n",
              " 'psychomotor education': 1,\n",
              " 'helminthology': 1,\n",
              " 'intensive care medicine': 1,\n",
              " 'peroxisomal disease': 1,\n",
              " 'traumatology': 1}"
            ]
          },
          "metadata": {},
          "execution_count": 17
        }
      ]
    },
    {
      "cell_type": "code",
      "source": [
        "for i in dfrestricted[\"Category\"].value_counts().index:\n",
        "  dfrestricted[dfrestricted[\"Category\"] == i].to_csv(str(i)+\".csv\", sep=\";\", index=False)"
      ],
      "metadata": {
        "id": "kecIavj7VMMA"
      },
      "execution_count": 23,
      "outputs": []
    }
  ],
  "metadata": {
    "colab": {
      "provenance": []
    },
    "kernelspec": {
      "display_name": "Python 3",
      "name": "python3"
    },
    "language_info": {
      "name": "python"
    },
    "gpuClass": "standard",
    "accelerator": "GPU"
  },
  "nbformat": 4,
  "nbformat_minor": 0
}