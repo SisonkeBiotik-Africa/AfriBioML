{
  "cells": [
    {
      "cell_type": "code",
      "execution_count": 1,
      "metadata": {
        "id": "lPdgINUqrKV-"
      },
      "outputs": [],
      "source": [
        "#Calling libraries\n",
        "import urllib\n",
        "import pandas as pd\n",
        "import numpy as np"
      ]
    },
    {
      "cell_type": "code",
      "execution_count": 2,
      "metadata": {
        "colab": {
          "base_uri": "https://localhost:8080/"
        },
        "id": "UVEiUEk6rVhi",
        "outputId": "2b5636d9-23e4-4ae5-f1a1-135481c128f6"
      },
      "outputs": [
        {
          "output_type": "execute_result",
          "data": {
            "text/plain": [
              "('scopus_Until2019.xls', <http.client.HTTPMessage at 0x7f06ec03ea90>)"
            ]
          },
          "metadata": {},
          "execution_count": 2
        }
      ],
      "source": [
        "#Retrieving files\n",
        "urllib.request.urlretrieve(\"https://github.com/SisonkeBiotik-Africa/AfriBioML/blob/main/XLS/scopus_2020.xls?raw=true\", \"scopus_2020.xls\")\n",
        "urllib.request.urlretrieve(\"https://github.com/SisonkeBiotik-Africa/AfriBioML/blob/main/XLS/scopus_2021.xls?raw=true\", \"scopus_2021.xls\")\n",
        "urllib.request.urlretrieve(\"https://github.com/SisonkeBiotik-Africa/AfriBioML/blob/main/XLS/scopus_2022.xls?raw=true\", \"scopus_2022.xls\")\n",
        "urllib.request.urlretrieve(\"https://github.com/SisonkeBiotik-Africa/AfriBioML/blob/main/XLS/scopus_Until2019.xls?raw=true\", \"scopus_Until2019.xls\")"
      ]
    },
    {
      "cell_type": "code",
      "execution_count": 3,
      "metadata": {
        "id": "_-pt_JZ_r44N"
      },
      "outputs": [],
      "source": [
        "#Creating dataframes\n",
        "df2020 = pd.read_excel(\"scopus_2020.xls\")\n",
        "df2021 = pd.read_excel(\"scopus_2021.xls\")\n",
        "df2022 = pd.read_excel(\"scopus_2022.xls\")\n",
        "df2019 = pd.read_excel(\"scopus_Until2019.xls\")"
      ]
    },
    {
      "cell_type": "code",
      "execution_count": 4,
      "metadata": {
        "id": "lSmTy6MLs36T"
      },
      "outputs": [],
      "source": [
        "#Merging dataframes\n",
        "df = df2020\n",
        "df = df.append(df2021, ignore_index=True)\n",
        "df = df.append(df2022, ignore_index=True)\n",
        "df = df.append(df2019, ignore_index=True)"
      ]
    },
    {
      "cell_type": "code",
      "execution_count": 5,
      "metadata": {
        "colab": {
          "base_uri": "https://localhost:8080/"
        },
        "id": "rAS8q9lnyCAS",
        "outputId": "62cf4814-3372-4f7d-a35b-ae2663a430b5"
      },
      "outputs": [
        {
          "output_type": "execute_result",
          "data": {
            "text/plain": [
              "(3772, 54)"
            ]
          },
          "metadata": {},
          "execution_count": 5
        }
      ],
      "source": [
        "df.shape"
      ]
    },
    {
      "cell_type": "code",
      "execution_count": 6,
      "metadata": {
        "colab": {
          "base_uri": "https://localhost:8080/"
        },
        "id": "zyU_bpaKs7C5",
        "outputId": "d3fb460b-dff0-4bd7-be02-882d3fce06a5"
      },
      "outputs": [
        {
          "output_type": "stream",
          "name": "stdout",
          "text": [
            "<class 'pandas.core.frame.DataFrame'>\n",
            "RangeIndex: 3772 entries, 0 to 3771\n",
            "Data columns (total 54 columns):\n",
            " #   Column                         Non-Null Count  Dtype  \n",
            "---  ------                         --------------  -----  \n",
            " 0   ï»¿Authors                     3772 non-null   object \n",
            " 1   Author(s) ID                   3772 non-null   object \n",
            " 2   Title                          3772 non-null   object \n",
            " 3   Year                           3772 non-null   int64  \n",
            " 4   Source title                   3772 non-null   object \n",
            " 5   Volume                         3045 non-null   object \n",
            " 6   Issue                          1552 non-null   object \n",
            " 7   Art. No.                       1666 non-null   object \n",
            " 8   Page start                     2120 non-null   object \n",
            " 9   Page end                       2105 non-null   object \n",
            " 10  Page count                     2 non-null      float64\n",
            " 11  Cited by                       2549 non-null   float64\n",
            " 12  DOI                            3659 non-null   object \n",
            " 13  Link                           3772 non-null   object \n",
            " 14  Affiliations                   3772 non-null   object \n",
            " 15  Authors with affiliations      3772 non-null   object \n",
            " 16  Abstract                       3772 non-null   object \n",
            " 17  Author Keywords                3170 non-null   object \n",
            " 18  Index Keywords                 3149 non-null   object \n",
            " 19  Molecular Sequence Numbers     1 non-null      object \n",
            " 20  Chemicals/CAS                  285 non-null    object \n",
            " 21  Tradenames                     88 non-null     object \n",
            " 22  Manufacturers                  79 non-null     object \n",
            " 23  References                     3734 non-null   object \n",
            " 24  Correspondence Address         2950 non-null   object \n",
            " 25  Editors                        645 non-null    object \n",
            " 26  Sponsors                       293 non-null    object \n",
            " 27  Publisher                      3720 non-null   object \n",
            " 28  Conference name                1139 non-null   object \n",
            " 29  Conference date                1139 non-null   object \n",
            " 30  Conference location            29 non-null     object \n",
            " 31  Conference code                1140 non-null   float64\n",
            " 32  ISSN                           3112 non-null   object \n",
            " 33  ISBN                           1100 non-null   object \n",
            " 34  CODEN                          709 non-null    object \n",
            " 35  PubMed ID                      948 non-null    float64\n",
            " 36  Language of Original Document  3772 non-null   object \n",
            " 37  Abbreviated Source Title       3762 non-null   object \n",
            " 38  Document Type                  3772 non-null   object \n",
            " 39  Publication Stage              3772 non-null   object \n",
            " 40  Open Access                    1945 non-null   object \n",
            " 41  Source                         3772 non-null   object \n",
            " 42  EID                            3772 non-null   object \n",
            " 43  Funding Details                969 non-null    object \n",
            " 44  Funding Text 1                 1121 non-null   object \n",
            " 45  Funding Text 2                 211 non-null    object \n",
            " 46  Funding Text 3                 21 non-null     object \n",
            " 47  Funding Text 4                 5 non-null      object \n",
            " 48  Funding Text 5                 3 non-null      object \n",
            " 49  Funding Text 6                 1 non-null      object \n",
            " 50  Funding Text 7                 0 non-null      float64\n",
            " 51  Funding Text 8                 0 non-null      float64\n",
            " 52  Funding Text 9                 0 non-null      float64\n",
            " 53  Funding Text 10                0 non-null      float64\n",
            "dtypes: float64(8), int64(1), object(45)\n",
            "memory usage: 1.6+ MB\n"
          ]
        }
      ],
      "source": [
        "df.info()"
      ]
    },
    {
      "cell_type": "code",
      "execution_count": 7,
      "metadata": {
        "id": "kzbKGUG5wAX4"
      },
      "outputs": [],
      "source": [
        "#Eliminating useless columns from the dataframe\n",
        "considered = np.r_[2:4, 11:13, 15:19, 35, 38, 40, 42]\n",
        "dfrestricted = df.iloc[:,considered]"
      ]
    },
    {
      "cell_type": "code",
      "execution_count": 8,
      "metadata": {
        "colab": {
          "base_uri": "https://localhost:8080/"
        },
        "id": "NW1P1yrW20ng",
        "outputId": "534528fb-ffd9-4c1c-adf6-ffbb9c7a38bc"
      },
      "outputs": [
        {
          "output_type": "stream",
          "name": "stdout",
          "text": [
            "<class 'pandas.core.frame.DataFrame'>\n",
            "RangeIndex: 3772 entries, 0 to 3771\n",
            "Data columns (total 12 columns):\n",
            " #   Column                     Non-Null Count  Dtype  \n",
            "---  ------                     --------------  -----  \n",
            " 0   Title                      3772 non-null   object \n",
            " 1   Year                       3772 non-null   int64  \n",
            " 2   Cited by                   2549 non-null   float64\n",
            " 3   DOI                        3659 non-null   object \n",
            " 4   Authors with affiliations  3772 non-null   object \n",
            " 5   Abstract                   3772 non-null   object \n",
            " 6   Author Keywords            3170 non-null   object \n",
            " 7   Index Keywords             3149 non-null   object \n",
            " 8   PubMed ID                  948 non-null    float64\n",
            " 9   Document Type              3772 non-null   object \n",
            " 10  Open Access                1945 non-null   object \n",
            " 11  EID                        3772 non-null   object \n",
            "dtypes: float64(2), int64(1), object(9)\n",
            "memory usage: 353.8+ KB\n"
          ]
        }
      ],
      "source": [
        "dfrestricted.info()"
      ]
    },
    {
      "cell_type": "code",
      "source": [
        "df_category = pd.read_csv(\"query.csv\")"
      ],
      "metadata": {
        "id": "tKldCoAqNZst"
      },
      "execution_count": 10,
      "outputs": []
    },
    {
      "cell_type": "code",
      "source": [
        "categories = {}\n",
        "for i in range(len(df_category)):\n",
        "  if len(df_category[\"name\"][i]) >= 6: categories[df_category[\"name\"][i]] = df_category[\"specialtylabel\"][i]\n"
      ],
      "metadata": {
        "id": "7gATd27GNyYr"
      },
      "execution_count": 11,
      "outputs": []
    },
    {
      "cell_type": "code",
      "source": [
        "with open(\"categorizedp.csv\", \"w\") as f:\n",
        "  f.write(\"Title;EID;DOI;DocumentType;Year;Disease;Category\\n\")"
      ],
      "metadata": {
        "id": "LB5M4u4pPPxH"
      },
      "execution_count": 12,
      "outputs": []
    },
    {
      "cell_type": "code",
      "source": [
        "for i in range(len(df)):\n",
        "  df[\"Title\"][i] = df[\"Title\"][i].replace(\";\", \":\", df[\"Title\"][i].count(\";\"))\n",
        "  for w in categories:\n",
        "    if (df[\"Title\"][i].lower().find(w.lower()) >= 0): \n",
        "      with open(\"categorizedp.csv\", \"a\") as f1:\n",
        "        f1.write(df[\"Title\"][i]+\";\"+df[\"EID\"][i]+\";\"+str(df[\"DOI\"][i])+\";\"+df[\"Document Type\"][i]+\";\"+str(df[\"Year\"][i])+\";\"+w+\";\"+categories[w]+\"\\n\")\n",
        "    if (df[\"Abstract\"][i].lower().find(w.lower()) >= 0): \n",
        "      with open(\"categorizedp.csv\", \"a\") as f1:\n",
        "        f1.write(df[\"Title\"][i]+\";\"+df[\"EID\"][i]+\";\"+str(df[\"DOI\"][i])+\";\"+df[\"Document Type\"][i]+\";\"+str(df[\"Year\"][i])+\";\"+w+\";\"+categories[w]+\"\\n\")"
      ],
      "metadata": {
        "id": "dwhA3nOyOr8T",
        "colab": {
          "base_uri": "https://localhost:8080/"
        },
        "outputId": "e33a92d0-7673-4d99-df70-b3f0397ef8ea"
      },
      "execution_count": 13,
      "outputs": [
        {
          "output_type": "stream",
          "name": "stderr",
          "text": [
            "<ipython-input-13-b6eef7bae3ee>:3: SettingWithCopyWarning: \n",
            "A value is trying to be set on a copy of a slice from a DataFrame\n",
            "\n",
            "See the caveats in the documentation: https://pandas.pydata.org/pandas-docs/stable/user_guide/indexing.html#returning-a-view-versus-a-copy\n",
            "  while (df[\"Title\"][i].find(\";\") >= 0): df[\"Title\"][i] = df[\"Title\"][i].replace(\";\", \":\")\n"
          ]
        }
      ]
    },
    {
      "cell_type": "code",
      "source": [
        "df_classified = pd.read_csv(\"categorizedp.csv\", sep=\";\")"
      ],
      "metadata": {
        "id": "dTV7Rs-6S77I"
      },
      "execution_count": 14,
      "outputs": []
    },
    {
      "cell_type": "code",
      "source": [
        "df_classified = df_classified.drop_duplicates(keep='first')"
      ],
      "metadata": {
        "id": "chzRIx-qTFWK"
      },
      "execution_count": 15,
      "outputs": []
    },
    {
      "cell_type": "code",
      "source": [
        "len(df_classified[\"EID\"].unique())"
      ],
      "metadata": {
        "id": "SDxdU8u7Tk6v",
        "outputId": "9f18c0d9-46a4-454b-d83c-840944ef7102",
        "colab": {
          "base_uri": "https://localhost:8080/"
        }
      },
      "execution_count": 16,
      "outputs": [
        {
          "output_type": "execute_result",
          "data": {
            "text/plain": [
              "3032"
            ]
          },
          "metadata": {},
          "execution_count": 16
        }
      ]
    },
    {
      "cell_type": "code",
      "source": [
        "df_classified.to_csv(\"categorizedp.csv\", sep=\";\", index=False)"
      ],
      "metadata": {
        "id": "ns16JDjBsZNy"
      },
      "execution_count": 17,
      "outputs": []
    },
    {
      "cell_type": "markdown",
      "source": [
        "This SPARQL query has been used to extract a lexicon aligned to medical specialties from Wikidata: https://w.wiki/6BdE\n",
        "\n",
        "```\n",
        "SELECT ?name ?specialtylabel WHERE {\n",
        "  {?disease rdfs:label ?name} UNION {?disease skos:altLabel ?name}\n",
        "  FILTER(LANG(?name)=\"en\")\n",
        "  ?disease wdt:P1995 ?specialty.\n",
        "  ?specialty rdfs:label ?specialtylabel.\n",
        "  FILTER(LANG(?specialtylabel)=\"en\")\n",
        "  }\n",
        "```\n",
        "\n"
      ],
      "metadata": {
        "id": "Cx83XL7XT2N1"
      }
    }
  ],
  "metadata": {
    "colab": {
      "provenance": []
    },
    "kernelspec": {
      "display_name": "Python 3",
      "name": "python3"
    },
    "language_info": {
      "name": "python"
    },
    "gpuClass": "standard",
    "accelerator": "GPU"
  },
  "nbformat": 4,
  "nbformat_minor": 0
}